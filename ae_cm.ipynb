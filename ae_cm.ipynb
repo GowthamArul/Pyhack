{
 "cells": [
  {
   "cell_type": "code",
   "execution_count": 1,
   "id": "511f4b3d",
   "metadata": {},
   "outputs": [],
   "source": [
    "import pandas as pd\n",
    "import requests\n",
    "import json\n",
    "from pandas import json_normalize"
   ]
  },
  {
   "cell_type": "code",
   "execution_count": 2,
   "id": "3e317c67",
   "metadata": {},
   "outputs": [],
   "source": [
    "# Collecting subjectid of ae\n",
    "ae = 'https://pharmanlp-177020.uc.r.appspot.com/api/1/StudyHack/ae/subject/list'\n",
    "df_ae = requests.get(ae)\n",
    "df_ae.json().keys()\n",
    "df_ae=pd.DataFrame.from_dict(df_ae.json()['data'])\n",
    "df_ae= df_ae.set_axis([\"subid\"], axis=1)"
   ]
  },
  {
   "cell_type": "code",
   "execution_count": 3,
   "id": "447ab456",
   "metadata": {},
   "outputs": [],
   "source": [
    "# Collecting subjectid of cm\n",
    "cm = 'https://pharmanlp-177020.uc.r.appspot.com/api/1/StudyHack/cm/subject/list'\n",
    "df_cm = requests.get(cm)\n",
    "df_cm.json().keys()\n",
    "df_cm=pd.DataFrame.from_dict(df_cm.json()['data'])\n",
    "df_cm= df_cm.set_axis([\"subid\"], axis=1)"
   ]
  },
  {
   "cell_type": "code",
   "execution_count": 4,
   "id": "d2f6c551",
   "metadata": {},
   "outputs": [
    {
     "data": {
      "text/plain": [
       "(728, 1)"
      ]
     },
     "execution_count": 4,
     "metadata": {},
     "output_type": "execute_result"
    }
   ],
   "source": [
    "df_ae.shape"
   ]
  },
  {
   "cell_type": "code",
   "execution_count": 5,
   "id": "bdb4a406",
   "metadata": {},
   "outputs": [
    {
     "data": {
      "text/plain": [
       "(722, 1)"
      ]
     },
     "execution_count": 5,
     "metadata": {},
     "output_type": "execute_result"
    }
   ],
   "source": [
    "df_cm.shape"
   ]
  },
  {
   "cell_type": "code",
   "execution_count": 6,
   "id": "b85c3d2f",
   "metadata": {},
   "outputs": [],
   "source": [
    "# Merging ae and cm subject id's to get the ae and cm dataset\n",
    "df_list = pd.merge(df_ae, df_cm, on='subid', how='outer')"
   ]
  },
  {
   "cell_type": "code",
   "execution_count": 7,
   "id": "1a5934f6",
   "metadata": {},
   "outputs": [
    {
     "data": {
      "text/plain": [
       "(980, 1)"
      ]
     },
     "execution_count": 7,
     "metadata": {},
     "output_type": "execute_result"
    }
   ],
   "source": [
    "df_list.shape"
   ]
  },
  {
   "cell_type": "code",
   "execution_count": 8,
   "id": "1463c059",
   "metadata": {},
   "outputs": [],
   "source": [
    "subid = df_list['subid'].tolist()"
   ]
  },
  {
   "cell_type": "code",
   "execution_count": 9,
   "id": "bc506009",
   "metadata": {
    "scrolled": false
   },
   "outputs": [],
   "source": [
    "# collecting ae dataset with respect to the subjectid's\n",
    "def ae_dataset():\n",
    "    data_list_am = []\n",
    "    for i in subid:\n",
    "        ae_subid = 'https://pharmanlp-177020.uc.r.appspot.com/api/1/StudyHack/ae/subject/{}/list'.format(i)\n",
    "        df_ae_subid = requests.get(ae_subid)\n",
    "        df_ae_subid=json.loads(df_ae_subid.text)\n",
    "        df_ae_subid=json_normalize(df_ae_subid,record_path = ['data'])\n",
    "        data_list_am.append(df_ae_subid)\n",
    "    data_am = pd.concat((data_list_am), ignore_index=True)\n",
    "    return data_am\n",
    "dfae = ae_dataset()"
   ]
  },
  {
   "cell_type": "code",
   "execution_count": 10,
   "id": "d23ce8b4",
   "metadata": {
    "scrolled": true
   },
   "outputs": [
    {
     "data": {
      "text/plain": [
       "(106, 88)"
      ]
     },
     "execution_count": 10,
     "metadata": {},
     "output_type": "execute_result"
    }
   ],
   "source": [
    "dfae.shape"
   ]
  },
  {
   "cell_type": "code",
   "execution_count": null,
   "id": "0d45d69b",
   "metadata": {
    "scrolled": false
   },
   "outputs": [],
   "source": [
    "dfae.head(2)"
   ]
  },
  {
   "cell_type": "code",
   "execution_count": 12,
   "id": "3a4ad1e6",
   "metadata": {},
   "outputs": [],
   "source": [
    "# collecting cm dataset with respect to the subjectid's\n",
    "def cm_subset():\n",
    "    data_list_cm = []\n",
    "    for i in subid:\n",
    "        cm_subid = 'https://pharmanlp-177020.uc.r.appspot.com/api/1/StudyHack/cm/subject/{}/list'.format(i)\n",
    "        df_cm_subid = requests.get(cm_subid)\n",
    "        df_cm_subid=json.loads(df_cm_subid.text)\n",
    "        df_cm_subid=json_normalize(df_cm_subid,record_path = ['data'])\n",
    "        data_list_cm.append(df_cm_subid)\n",
    "    data_cm = pd.concat((data_list_cm), ignore_index=True)\n",
    "    return data_cm\n",
    "dfcm = cm_subset()"
   ]
  },
  {
   "cell_type": "code",
   "execution_count": 13,
   "id": "044e6c2f",
   "metadata": {},
   "outputs": [],
   "source": [
    "# Fixing of invalid date with na\n",
    "dfcm['cmstdat'] = pd.to_datetime(dfcm['cmstdat'], errors='coerce')\n",
    "dfcm['cmendat'] = pd.to_datetime(dfcm['cmendat'], errors='coerce')\n",
    "dfae['aestdat'] = pd.to_datetime(dfae['aestdat'], errors='coerce')\n",
    "dfae['aeendat'] = pd.to_datetime(dfae['aeendat'], errors='coerce')"
   ]
  },
  {
   "cell_type": "code",
   "execution_count": 14,
   "id": "68843c62",
   "metadata": {},
   "outputs": [
    {
     "data": {
      "text/plain": [
       "(249, 49)"
      ]
     },
     "execution_count": 14,
     "metadata": {},
     "output_type": "execute_result"
    }
   ],
   "source": [
    "dfcm.shape"
   ]
  },
  {
   "cell_type": "code",
   "execution_count": null,
   "id": "c3806cb9",
   "metadata": {
    "scrolled": true
   },
   "outputs": [],
   "source": [
    "dfcm.head(2)"
   ]
  },
  {
   "cell_type": "markdown",
   "id": "bc80b7a4",
   "metadata": {},
   "source": [
    "## Type 1: Patients and rows for which Medication are given prior to the Adverse Events."
   ]
  },
  {
   "cell_type": "code",
   "execution_count": 16,
   "id": "eb2b13b8",
   "metadata": {},
   "outputs": [],
   "source": [
    "# cmstdat should start before aestdat. Comparing the aestdat and cmstdat with respect to subjectid and formidx on the domain ae and cm\n",
    "df1_cm = []\n",
    "df1_ae = []\n",
    "for i, r1 in dfae.iterrows():\n",
    "    for j, r2 in dfcm.iterrows():\n",
    "        if (r1['subjectid'] == r2['subjectid']):\n",
    "            if (r1['formidx'] == r2['formidx']):\n",
    "                if (r1['aestdat'] > r2['cmstdat']):\n",
    "                    df1_cm.append(dfcm.iloc[j])\n",
    "                    df1_ae.append(dfae.iloc[i])\n",
    "            else:\n",
    "                continue\n",
    "        else:\n",
    "            continue"
   ]
  },
  {
   "cell_type": "code",
   "execution_count": 17,
   "id": "08a64984",
   "metadata": {},
   "outputs": [],
   "source": [
    "df1_cm = pd.DataFrame(df1_cm)\n",
    "df1_ae = pd.DataFrame(df1_ae)\n",
    "df1_ae.reset_index(inplace=True)\n",
    "df1_cm.reset_index(inplace=True)"
   ]
  },
  {
   "cell_type": "code",
   "execution_count": null,
   "id": "7349b03b",
   "metadata": {
    "scrolled": true
   },
   "outputs": [],
   "source": [
    "df1_cm.head(5)"
   ]
  },
  {
   "cell_type": "code",
   "execution_count": 19,
   "id": "2bb17620",
   "metadata": {},
   "outputs": [
    {
     "data": {
      "text/plain": [
       "(44, 50)"
      ]
     },
     "execution_count": 19,
     "metadata": {},
     "output_type": "execute_result"
    }
   ],
   "source": [
    "df1_cm.shape"
   ]
  },
  {
   "cell_type": "markdown",
   "id": "336d6ac3",
   "metadata": {},
   "source": [
    "## Type 2: Patients and rows for which days Medications are given and Adverse Event occur don't match."
   ]
  },
  {
   "cell_type": "code",
   "execution_count": 20,
   "id": "b5a1c44c",
   "metadata": {},
   "outputs": [],
   "source": [
    "# If aestdat occur before cmstdat, in that case the adverse event is mismatch \n",
    "df2_cm = []\n",
    "df2_ae = []\n",
    "for i, r1 in dfae.iterrows():\n",
    "    for j, r2 in dfcm.iterrows():\n",
    "        if (r1['subjectid'] == r2['subjectid']):\n",
    "            if (r1['formidx'] == r2['formidx']):\n",
    "                if (r1['aestdat'] < r2['cmstdat']):\n",
    "                    df2_cm.append(dfcm.iloc[j])\n",
    "                    df2_ae.append(dfae.iloc[i])\n",
    "            else:\n",
    "                continue\n",
    "        else:\n",
    "            continue"
   ]
  },
  {
   "cell_type": "code",
   "execution_count": 21,
   "id": "b3e1fdf7",
   "metadata": {},
   "outputs": [],
   "source": [
    "df2_cm = pd.DataFrame(df2_cm)\n",
    "df2_ae = pd.DataFrame(df2_ae)\n",
    "df2_ae.reset_index(inplace=True)\n",
    "df2_cm.reset_index(inplace=True)"
   ]
  },
  {
   "cell_type": "code",
   "execution_count": null,
   "id": "41c1aba1",
   "metadata": {
    "scrolled": false
   },
   "outputs": [],
   "source": [
    "df2_ae.head(5)"
   ]
  },
  {
   "cell_type": "code",
   "execution_count": 23,
   "id": "7781f705",
   "metadata": {},
   "outputs": [
    {
     "data": {
      "text/plain": [
       "(22, 89)"
      ]
     },
     "execution_count": 23,
     "metadata": {},
     "output_type": "execute_result"
    }
   ],
   "source": [
    "df2_ae.shape"
   ]
  },
  {
   "cell_type": "markdown",
   "id": "1dfa3698",
   "metadata": {},
   "source": [
    "## Type 3: Duplicate Adverse events are entered or Adverse Events overlap."
   ]
  },
  {
   "cell_type": "code",
   "execution_count": 24,
   "id": "f2e37659",
   "metadata": {},
   "outputs": [],
   "source": [
    "# Checking aestdat and aeendat on ae event to find the duplicates\n",
    "df3 = dfae[dfae.duplicated(['aestdat', 'aeendat'])]"
   ]
  },
  {
   "cell_type": "code",
   "execution_count": null,
   "id": "c62c7fde",
   "metadata": {
    "scrolled": true
   },
   "outputs": [],
   "source": [
    "df3[['aestdat', 'aeendat']].head(4)"
   ]
  },
  {
   "cell_type": "code",
   "execution_count": 26,
   "id": "a49e58c6",
   "metadata": {},
   "outputs": [
    {
     "data": {
      "text/plain": [
       "(12, 88)"
      ]
     },
     "execution_count": 26,
     "metadata": {},
     "output_type": "execute_result"
    }
   ],
   "source": [
    "df3.shape"
   ]
  },
  {
   "cell_type": "markdown",
   "id": "4cec202a",
   "metadata": {},
   "source": [
    "## Type 4: Patients and rows which have overlapping of Concomitant medications."
   ]
  },
  {
   "cell_type": "code",
   "execution_count": 27,
   "id": "bd5b652d",
   "metadata": {},
   "outputs": [],
   "source": [
    "# Checking aestdat and aeendat on ae event to find the duplicates\n",
    "df4 = dfcm[dfcm.duplicated(['cmstdat', 'cmendat'])]"
   ]
  },
  {
   "cell_type": "code",
   "execution_count": null,
   "id": "ad3a3c7a",
   "metadata": {
    "scrolled": true
   },
   "outputs": [],
   "source": [
    "#df4 = df_cm_subid[df_cm_subid.duplicated()]\n",
    "df4[['cmstdat', 'cmendat']].head(4)"
   ]
  },
  {
   "cell_type": "code",
   "execution_count": 29,
   "id": "9a332084",
   "metadata": {},
   "outputs": [
    {
     "data": {
      "text/plain": [
       "(64, 49)"
      ]
     },
     "execution_count": 29,
     "metadata": {},
     "output_type": "execute_result"
    }
   ],
   "source": [
    "df4.shape"
   ]
  },
  {
   "cell_type": "markdown",
   "id": "fc8e6e31",
   "metadata": {},
   "source": [
    "## Type 5: Patients for which the duration of Adverse Events is not adding up to corresponding concomitant medication. "
   ]
  },
  {
   "cell_type": "code",
   "execution_count": 30,
   "id": "414caa9c",
   "metadata": {},
   "outputs": [],
   "source": [
    "# If cmstdat starts first, but end earlier to aeendat, then the Adverse Event is not adding up\n",
    "df6_cm = []\n",
    "df6_ae = []\n",
    "for i, r1 in dfae.iterrows():\n",
    "    for j, r2 in dfcm.iterrows():\n",
    "        if (r1['subjectid'] == r2['subjectid']):\n",
    "            if (r1['formidx'] == r2['formidx']):\n",
    "                if (r1['aestdat'] > r2['cmstdat']):\n",
    "                    if (r1['aeendat'] < r2['cmendat']):\n",
    "                        df6_cm.append(dfcm.iloc[j])\n",
    "                        df6_ae.append(dfae.iloc[i])\n",
    "                    else:\n",
    "                        continue"
   ]
  },
  {
   "cell_type": "code",
   "execution_count": 31,
   "id": "bc342264",
   "metadata": {},
   "outputs": [],
   "source": [
    "df6_cm = pd.DataFrame(df6_cm)\n",
    "df6_ae = pd.DataFrame(df6_ae)\n",
    "df6_ae.reset_index(inplace=True)\n",
    "df6_cm.reset_index(inplace=True)"
   ]
  },
  {
   "cell_type": "code",
   "execution_count": 32,
   "id": "be9e9c5e",
   "metadata": {},
   "outputs": [
    {
     "data": {
      "text/html": [
       "<div>\n",
       "<style scoped>\n",
       "    .dataframe tbody tr th:only-of-type {\n",
       "        vertical-align: middle;\n",
       "    }\n",
       "\n",
       "    .dataframe tbody tr th {\n",
       "        vertical-align: top;\n",
       "    }\n",
       "\n",
       "    .dataframe thead th {\n",
       "        text-align: right;\n",
       "    }\n",
       "</style>\n",
       "<table border=\"1\" class=\"dataframe\">\n",
       "  <thead>\n",
       "    <tr style=\"text-align: right;\">\n",
       "      <th></th>\n",
       "      <th>cmstdat</th>\n",
       "      <th>cmendat</th>\n",
       "    </tr>\n",
       "  </thead>\n",
       "  <tbody>\n",
       "    <tr>\n",
       "      <th>0</th>\n",
       "      <td>2018-05-01</td>\n",
       "      <td>2018-05-26</td>\n",
       "    </tr>\n",
       "    <tr>\n",
       "      <th>1</th>\n",
       "      <td>2018-05-22</td>\n",
       "      <td>2018-09-03</td>\n",
       "    </tr>\n",
       "    <tr>\n",
       "      <th>2</th>\n",
       "      <td>2018-04-25</td>\n",
       "      <td>2018-05-28</td>\n",
       "    </tr>\n",
       "  </tbody>\n",
       "</table>\n",
       "</div>"
      ],
      "text/plain": [
       "     cmstdat    cmendat\n",
       "0 2018-05-01 2018-05-26\n",
       "1 2018-05-22 2018-09-03\n",
       "2 2018-04-25 2018-05-28"
      ]
     },
     "execution_count": 32,
     "metadata": {},
     "output_type": "execute_result"
    }
   ],
   "source": [
    "df6_cm[['cmstdat', 'cmendat']].head(3)"
   ]
  },
  {
   "cell_type": "code",
   "execution_count": 33,
   "id": "9c083163",
   "metadata": {},
   "outputs": [
    {
     "data": {
      "text/html": [
       "<div>\n",
       "<style scoped>\n",
       "    .dataframe tbody tr th:only-of-type {\n",
       "        vertical-align: middle;\n",
       "    }\n",
       "\n",
       "    .dataframe tbody tr th {\n",
       "        vertical-align: top;\n",
       "    }\n",
       "\n",
       "    .dataframe thead th {\n",
       "        text-align: right;\n",
       "    }\n",
       "</style>\n",
       "<table border=\"1\" class=\"dataframe\">\n",
       "  <thead>\n",
       "    <tr style=\"text-align: right;\">\n",
       "      <th></th>\n",
       "      <th>aestdat</th>\n",
       "      <th>aeendat</th>\n",
       "    </tr>\n",
       "  </thead>\n",
       "  <tbody>\n",
       "    <tr>\n",
       "      <th>0</th>\n",
       "      <td>2018-05-07</td>\n",
       "      <td>2018-05-19</td>\n",
       "    </tr>\n",
       "    <tr>\n",
       "      <th>1</th>\n",
       "      <td>2018-06-18</td>\n",
       "      <td>2018-06-24</td>\n",
       "    </tr>\n",
       "    <tr>\n",
       "      <th>2</th>\n",
       "      <td>2018-05-14</td>\n",
       "      <td>2018-05-21</td>\n",
       "    </tr>\n",
       "  </tbody>\n",
       "</table>\n",
       "</div>"
      ],
      "text/plain": [
       "     aestdat    aeendat\n",
       "0 2018-05-07 2018-05-19\n",
       "1 2018-06-18 2018-06-24\n",
       "2 2018-05-14 2018-05-21"
      ]
     },
     "execution_count": 33,
     "metadata": {},
     "output_type": "execute_result"
    }
   ],
   "source": [
    "df6_ae[['aestdat', 'aeendat']].head(3)"
   ]
  },
  {
   "cell_type": "code",
   "execution_count": 34,
   "id": "1017b164",
   "metadata": {},
   "outputs": [
    {
     "data": {
      "text/plain": [
       "(4, 89)"
      ]
     },
     "execution_count": 34,
     "metadata": {},
     "output_type": "execute_result"
    }
   ],
   "source": [
    "df6_ae.shape"
   ]
  },
  {
   "cell_type": "code",
   "execution_count": null,
   "id": "97bf47a1",
   "metadata": {},
   "outputs": [],
   "source": []
  }
 ],
 "metadata": {
  "kernelspec": {
   "display_name": "Python 3",
   "language": "python",
   "name": "python3"
  },
  "language_info": {
   "codemirror_mode": {
    "name": "ipython",
    "version": 3
   },
   "file_extension": ".py",
   "mimetype": "text/x-python",
   "name": "python",
   "nbconvert_exporter": "python",
   "pygments_lexer": "ipython3",
   "version": "3.8.5"
  }
 },
 "nbformat": 4,
 "nbformat_minor": 5
}
